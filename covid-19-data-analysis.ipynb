{
 "cells": [
  {
   "cell_type": "markdown",
   "id": "025de3c8",
   "metadata": {},
   "source": [
    "# Imports"
   ]
  },
  {
   "cell_type": "code",
   "execution_count": 47,
   "id": "1a388ae8",
   "metadata": {
    "ExecuteTime": {
     "end_time": "2021-05-03T01:12:02.535830Z",
     "start_time": "2021-05-03T01:12:02.527718Z"
    }
   },
   "outputs": [],
   "source": [
    "import json\n",
    "import folium\n",
    "import requests\n",
    "import mimetypes\n",
    "import http.client\n",
    "import pandas as pd\n",
    "import streamlit as st\n",
    "import plotly\n",
    "import plotly.express as px\n",
    "from streamlit_folium import folium_static\n",
    "from folium.plugins import HeatMap\n",
    "from pandas.io.json import json_normalize\n",
    "\n",
    "import matplotlib.pyplot as plt\n",
    "import seaborn as sns\n",
    "\n",
    "import inflection\n",
    "import datetime\n",
    "\n",
    "\n",
    "from IPython.core.display    import HTML\n",
    "from IPython.display         import Image"
   ]
  },
  {
   "cell_type": "code",
   "execution_count": 27,
   "id": "be9f380a",
   "metadata": {
    "ExecuteTime": {
     "end_time": "2021-05-03T01:02:59.627470Z",
     "start_time": "2021-05-03T01:02:58.581270Z"
    }
   },
   "outputs": [
    {
     "name": "stdout",
     "output_type": "stream",
     "text": [
      "Collecting inflection\n",
      "  Using cached inflection-0.5.1-py2.py3-none-any.whl (9.5 kB)\n",
      "Installing collected packages: inflection\n",
      "Successfully installed inflection-0.5.1\n",
      "\u001b[33mWARNING: You are using pip version 20.2.3; however, version 21.1.1 is available.\n",
      "You should consider upgrading via the '/home/marxcerqueira/.pyenv/versions/3.9.1/envs/covid-dashboard/bin/python3.9 -m pip install --upgrade pip' command.\u001b[0m\n"
     ]
    }
   ],
   "source": [
    "!pip install inflection"
   ]
  },
  {
   "cell_type": "markdown",
   "id": "5fe4e71c",
   "metadata": {},
   "source": [
    "## Helper Functions"
   ]
  },
  {
   "cell_type": "code",
   "execution_count": 12,
   "id": "7a878585",
   "metadata": {
    "ExecuteTime": {
     "end_time": "2021-05-03T00:49:52.927683Z",
     "start_time": "2021-05-03T00:49:52.913702Z"
    }
   },
   "outputs": [],
   "source": [
    "def jupyter_settings():\n",
    "    %matplotlib inline\n",
    "    %pylab inline\n",
    "    \n",
    "    plt.style.use( 'bmh' )\n",
    "    plt.rcParams['figure.figsize'] = [25, 12]\n",
    "    plt.rcParams['font.size'] = 24\n",
    "    \n",
    "    display( HTML( '<style>.container { width:100% !important; }</style>') )\n",
    "    pd.options.display.max_columns = None\n",
    "    pd.options.display.max_rows = None\n",
    "    pd.set_option( 'display.expand_frame_repr', False )\n",
    "    \n",
    "    sns.set()"
   ]
  },
  {
   "cell_type": "code",
   "execution_count": 18,
   "id": "68415528",
   "metadata": {
    "ExecuteTime": {
     "end_time": "2021-05-03T00:51:45.269273Z",
     "start_time": "2021-05-03T00:51:45.264169Z"
    },
    "scrolled": true
   },
   "outputs": [
    {
     "name": "stdout",
     "output_type": "stream",
     "text": [
      "Populating the interactive namespace from numpy and matplotlib\n"
     ]
    },
    {
     "data": {
      "text/html": [
       "<style>.container { width:100% !important; }</style>"
      ],
      "text/plain": [
       "<IPython.core.display.HTML object>"
      ]
     },
     "metadata": {},
     "output_type": "display_data"
    }
   ],
   "source": [
    "jupyter_settings()"
   ]
  },
  {
   "cell_type": "markdown",
   "id": "e1f7323b",
   "metadata": {},
   "source": [
    "## Loading Data"
   ]
  },
  {
   "cell_type": "code",
   "execution_count": 22,
   "id": "917084b8",
   "metadata": {
    "ExecuteTime": {
     "end_time": "2021-05-03T01:02:15.948050Z",
     "start_time": "2021-05-03T01:02:14.097769Z"
    },
    "scrolled": true
   },
   "outputs": [
    {
     "data": {
      "text/html": [
       "<div>\n",
       "<style scoped>\n",
       "    .dataframe tbody tr th:only-of-type {\n",
       "        vertical-align: middle;\n",
       "    }\n",
       "\n",
       "    .dataframe tbody tr th {\n",
       "        vertical-align: top;\n",
       "    }\n",
       "\n",
       "    .dataframe thead th {\n",
       "        text-align: right;\n",
       "    }\n",
       "</style>\n",
       "<table border=\"1\" class=\"dataframe\">\n",
       "  <thead>\n",
       "    <tr style=\"text-align: right;\">\n",
       "      <th></th>\n",
       "      <th>ID</th>\n",
       "      <th>Country</th>\n",
       "      <th>CountryCode</th>\n",
       "      <th>Slug</th>\n",
       "      <th>NewConfirmed</th>\n",
       "      <th>TotalConfirmed</th>\n",
       "      <th>NewDeaths</th>\n",
       "      <th>TotalDeaths</th>\n",
       "      <th>NewRecovered</th>\n",
       "      <th>TotalRecovered</th>\n",
       "      <th>Date</th>\n",
       "      <th>Premium</th>\n",
       "    </tr>\n",
       "  </thead>\n",
       "  <tbody>\n",
       "    <tr>\n",
       "      <th>0</th>\n",
       "      <td>8cc444b3-c02c-470d-a6fe-e31826ded357</td>\n",
       "      <td>Afghanistan</td>\n",
       "      <td>AF</td>\n",
       "      <td>afghanistan</td>\n",
       "      <td>194</td>\n",
       "      <td>59939</td>\n",
       "      <td>6</td>\n",
       "      <td>2631</td>\n",
       "      <td>66</td>\n",
       "      <td>53272</td>\n",
       "      <td>2021-05-03T00:37:38.096Z</td>\n",
       "      <td>{}</td>\n",
       "    </tr>\n",
       "    <tr>\n",
       "      <th>1</th>\n",
       "      <td>97bd00f4-9932-4858-bf8a-5788f4211cf1</td>\n",
       "      <td>Albania</td>\n",
       "      <td>AL</td>\n",
       "      <td>albania</td>\n",
       "      <td>100</td>\n",
       "      <td>131185</td>\n",
       "      <td>2</td>\n",
       "      <td>2396</td>\n",
       "      <td>834</td>\n",
       "      <td>110172</td>\n",
       "      <td>2021-05-03T00:37:38.096Z</td>\n",
       "      <td>{}</td>\n",
       "    </tr>\n",
       "    <tr>\n",
       "      <th>2</th>\n",
       "      <td>93605ff5-91ba-4c94-8e90-51e5411467c5</td>\n",
       "      <td>Algeria</td>\n",
       "      <td>DZ</td>\n",
       "      <td>algeria</td>\n",
       "      <td>203</td>\n",
       "      <td>122311</td>\n",
       "      <td>8</td>\n",
       "      <td>3261</td>\n",
       "      <td>141</td>\n",
       "      <td>85249</td>\n",
       "      <td>2021-05-03T00:37:38.096Z</td>\n",
       "      <td>{}</td>\n",
       "    </tr>\n",
       "    <tr>\n",
       "      <th>3</th>\n",
       "      <td>20fed65f-3180-4f4b-8f10-414370833ad5</td>\n",
       "      <td>Andorra</td>\n",
       "      <td>AD</td>\n",
       "      <td>andorra</td>\n",
       "      <td>0</td>\n",
       "      <td>13232</td>\n",
       "      <td>0</td>\n",
       "      <td>125</td>\n",
       "      <td>0</td>\n",
       "      <td>12684</td>\n",
       "      <td>2021-05-03T00:37:38.096Z</td>\n",
       "      <td>{}</td>\n",
       "    </tr>\n",
       "    <tr>\n",
       "      <th>4</th>\n",
       "      <td>a6eb4ea0-2680-4ede-9cb2-caa9fcf44fbf</td>\n",
       "      <td>Angola</td>\n",
       "      <td>AO</td>\n",
       "      <td>angola</td>\n",
       "      <td>163</td>\n",
       "      <td>26815</td>\n",
       "      <td>4</td>\n",
       "      <td>600</td>\n",
       "      <td>37</td>\n",
       "      <td>23913</td>\n",
       "      <td>2021-05-03T00:37:38.096Z</td>\n",
       "      <td>{}</td>\n",
       "    </tr>\n",
       "  </tbody>\n",
       "</table>\n",
       "</div>"
      ],
      "text/plain": [
       "                                     ID      Country CountryCode         Slug  NewConfirmed  TotalConfirmed  NewDeaths  TotalDeaths  NewRecovered  TotalRecovered                      Date Premium\n",
       "0  8cc444b3-c02c-470d-a6fe-e31826ded357  Afghanistan          AF  afghanistan           194           59939          6         2631            66           53272  2021-05-03T00:37:38.096Z      {}\n",
       "1  97bd00f4-9932-4858-bf8a-5788f4211cf1      Albania          AL      albania           100          131185          2         2396           834          110172  2021-05-03T00:37:38.096Z      {}\n",
       "2  93605ff5-91ba-4c94-8e90-51e5411467c5      Algeria          DZ      algeria           203          122311          8         3261           141           85249  2021-05-03T00:37:38.096Z      {}\n",
       "3  20fed65f-3180-4f4b-8f10-414370833ad5      Andorra          AD      andorra             0           13232          0          125             0           12684  2021-05-03T00:37:38.096Z      {}\n",
       "4  a6eb4ea0-2680-4ede-9cb2-caa9fcf44fbf       Angola          AO       angola           163           26815          4          600            37           23913  2021-05-03T00:37:38.096Z      {}"
      ]
     },
     "execution_count": 22,
     "metadata": {},
     "output_type": "execute_result"
    }
   ],
   "source": [
    "conn = http.client.HTTPSConnection(\"api.covid19api.com\")\n",
    "payload = ''\n",
    "headers = {}\n",
    "conn.request(\"GET\",\"/summary\",payload,headers)\n",
    "\n",
    "res = conn.getresponse()\n",
    "\n",
    "data  = res.read().decode('UTF-8')\n",
    "\n",
    "covid = json.loads(data)\n",
    "\n",
    "# Gera o dataframe\n",
    "data_raw = pd.DataFrame(covid['Countries'])\n",
    "data_raw.head()"
   ]
  },
  {
   "cell_type": "markdown",
   "id": "80380934",
   "metadata": {},
   "source": [
    "# Data Description"
   ]
  },
  {
   "cell_type": "code",
   "execution_count": 23,
   "id": "8be22d9c",
   "metadata": {
    "ExecuteTime": {
     "end_time": "2021-05-03T01:02:23.345833Z",
     "start_time": "2021-05-03T01:02:23.340983Z"
    }
   },
   "outputs": [],
   "source": [
    "df1 = data_raw.copy()"
   ]
  },
  {
   "cell_type": "markdown",
   "id": "dd244480",
   "metadata": {},
   "source": [
    "## Rename Columns"
   ]
  },
  {
   "cell_type": "code",
   "execution_count": 24,
   "id": "c5e2798e",
   "metadata": {
    "ExecuteTime": {
     "end_time": "2021-05-03T01:02:27.253558Z",
     "start_time": "2021-05-03T01:02:27.250859Z"
    },
    "scrolled": true
   },
   "outputs": [
    {
     "data": {
      "text/plain": [
       "['ID',\n",
       " 'Country',\n",
       " 'CountryCode',\n",
       " 'Slug',\n",
       " 'NewConfirmed',\n",
       " 'TotalConfirmed',\n",
       " 'NewDeaths',\n",
       " 'TotalDeaths',\n",
       " 'NewRecovered',\n",
       " 'TotalRecovered',\n",
       " 'Date',\n",
       " 'Premium']"
      ]
     },
     "execution_count": 24,
     "metadata": {},
     "output_type": "execute_result"
    }
   ],
   "source": [
    "list(df1)"
   ]
  },
  {
   "cell_type": "code",
   "execution_count": 29,
   "id": "9b743562",
   "metadata": {
    "ExecuteTime": {
     "end_time": "2021-05-03T01:03:07.392935Z",
     "start_time": "2021-05-03T01:03:07.389849Z"
    }
   },
   "outputs": [],
   "source": [
    "cols_old = list(df1)\n",
    "snakecase = lambda x: inflection.underscore(x)\n",
    "col_news = list(map(snakecase, cols_old))\n",
    "\n",
    "# Rename columns\n",
    "df1.columns = col_news"
   ]
  },
  {
   "cell_type": "code",
   "execution_count": 30,
   "id": "32785d73",
   "metadata": {
    "ExecuteTime": {
     "end_time": "2021-05-03T01:03:11.872319Z",
     "start_time": "2021-05-03T01:03:11.841662Z"
    },
    "scrolled": true
   },
   "outputs": [
    {
     "data": {
      "text/html": [
       "<div>\n",
       "<style scoped>\n",
       "    .dataframe tbody tr th:only-of-type {\n",
       "        vertical-align: middle;\n",
       "    }\n",
       "\n",
       "    .dataframe tbody tr th {\n",
       "        vertical-align: top;\n",
       "    }\n",
       "\n",
       "    .dataframe thead th {\n",
       "        text-align: right;\n",
       "    }\n",
       "</style>\n",
       "<table border=\"1\" class=\"dataframe\">\n",
       "  <thead>\n",
       "    <tr style=\"text-align: right;\">\n",
       "      <th></th>\n",
       "      <th>id</th>\n",
       "      <th>country</th>\n",
       "      <th>country_code</th>\n",
       "      <th>slug</th>\n",
       "      <th>new_confirmed</th>\n",
       "      <th>total_confirmed</th>\n",
       "      <th>new_deaths</th>\n",
       "      <th>total_deaths</th>\n",
       "      <th>new_recovered</th>\n",
       "      <th>total_recovered</th>\n",
       "      <th>date</th>\n",
       "      <th>premium</th>\n",
       "    </tr>\n",
       "  </thead>\n",
       "  <tbody>\n",
       "    <tr>\n",
       "      <th>0</th>\n",
       "      <td>8cc444b3-c02c-470d-a6fe-e31826ded357</td>\n",
       "      <td>Afghanistan</td>\n",
       "      <td>AF</td>\n",
       "      <td>afghanistan</td>\n",
       "      <td>194</td>\n",
       "      <td>59939</td>\n",
       "      <td>6</td>\n",
       "      <td>2631</td>\n",
       "      <td>66</td>\n",
       "      <td>53272</td>\n",
       "      <td>2021-05-03T00:37:38.096Z</td>\n",
       "      <td>{}</td>\n",
       "    </tr>\n",
       "    <tr>\n",
       "      <th>1</th>\n",
       "      <td>97bd00f4-9932-4858-bf8a-5788f4211cf1</td>\n",
       "      <td>Albania</td>\n",
       "      <td>AL</td>\n",
       "      <td>albania</td>\n",
       "      <td>100</td>\n",
       "      <td>131185</td>\n",
       "      <td>2</td>\n",
       "      <td>2396</td>\n",
       "      <td>834</td>\n",
       "      <td>110172</td>\n",
       "      <td>2021-05-03T00:37:38.096Z</td>\n",
       "      <td>{}</td>\n",
       "    </tr>\n",
       "    <tr>\n",
       "      <th>2</th>\n",
       "      <td>93605ff5-91ba-4c94-8e90-51e5411467c5</td>\n",
       "      <td>Algeria</td>\n",
       "      <td>DZ</td>\n",
       "      <td>algeria</td>\n",
       "      <td>203</td>\n",
       "      <td>122311</td>\n",
       "      <td>8</td>\n",
       "      <td>3261</td>\n",
       "      <td>141</td>\n",
       "      <td>85249</td>\n",
       "      <td>2021-05-03T00:37:38.096Z</td>\n",
       "      <td>{}</td>\n",
       "    </tr>\n",
       "    <tr>\n",
       "      <th>3</th>\n",
       "      <td>20fed65f-3180-4f4b-8f10-414370833ad5</td>\n",
       "      <td>Andorra</td>\n",
       "      <td>AD</td>\n",
       "      <td>andorra</td>\n",
       "      <td>0</td>\n",
       "      <td>13232</td>\n",
       "      <td>0</td>\n",
       "      <td>125</td>\n",
       "      <td>0</td>\n",
       "      <td>12684</td>\n",
       "      <td>2021-05-03T00:37:38.096Z</td>\n",
       "      <td>{}</td>\n",
       "    </tr>\n",
       "    <tr>\n",
       "      <th>4</th>\n",
       "      <td>a6eb4ea0-2680-4ede-9cb2-caa9fcf44fbf</td>\n",
       "      <td>Angola</td>\n",
       "      <td>AO</td>\n",
       "      <td>angola</td>\n",
       "      <td>163</td>\n",
       "      <td>26815</td>\n",
       "      <td>4</td>\n",
       "      <td>600</td>\n",
       "      <td>37</td>\n",
       "      <td>23913</td>\n",
       "      <td>2021-05-03T00:37:38.096Z</td>\n",
       "      <td>{}</td>\n",
       "    </tr>\n",
       "  </tbody>\n",
       "</table>\n",
       "</div>"
      ],
      "text/plain": [
       "                                     id      country country_code         slug  new_confirmed  total_confirmed  new_deaths  total_deaths  new_recovered  total_recovered                      date premium\n",
       "0  8cc444b3-c02c-470d-a6fe-e31826ded357  Afghanistan           AF  afghanistan            194            59939           6          2631             66            53272  2021-05-03T00:37:38.096Z      {}\n",
       "1  97bd00f4-9932-4858-bf8a-5788f4211cf1      Albania           AL      albania            100           131185           2          2396            834           110172  2021-05-03T00:37:38.096Z      {}\n",
       "2  93605ff5-91ba-4c94-8e90-51e5411467c5      Algeria           DZ      algeria            203           122311           8          3261            141            85249  2021-05-03T00:37:38.096Z      {}\n",
       "3  20fed65f-3180-4f4b-8f10-414370833ad5      Andorra           AD      andorra              0            13232           0           125              0            12684  2021-05-03T00:37:38.096Z      {}\n",
       "4  a6eb4ea0-2680-4ede-9cb2-caa9fcf44fbf       Angola           AO       angola            163            26815           4           600             37            23913  2021-05-03T00:37:38.096Z      {}"
      ]
     },
     "execution_count": 30,
     "metadata": {},
     "output_type": "execute_result"
    }
   ],
   "source": [
    "df1.head()"
   ]
  },
  {
   "cell_type": "markdown",
   "id": "a409c651",
   "metadata": {},
   "source": [
    "## Data Dimension"
   ]
  },
  {
   "cell_type": "code",
   "execution_count": 33,
   "id": "c7771322",
   "metadata": {
    "ExecuteTime": {
     "end_time": "2021-05-03T01:05:56.511469Z",
     "start_time": "2021-05-03T01:05:56.503755Z"
    }
   },
   "outputs": [
    {
     "name": "stdout",
     "output_type": "stream",
     "text": [
      "Number of rows: 190\n",
      "Number of columns: 12\n"
     ]
    }
   ],
   "source": [
    "print('Number of rows: {}'.format(df1.shape[0]))\n",
    "print('Number of columns: {}'.format(df1.shape[1]))"
   ]
  },
  {
   "cell_type": "markdown",
   "id": "8e62ac0a",
   "metadata": {},
   "source": [
    "## Check NA Values"
   ]
  },
  {
   "cell_type": "code",
   "execution_count": null,
   "id": "a7491063",
   "metadata": {},
   "outputs": [],
   "source": [
    "#checking NA values, dtypes, dataset dimension, change dtypes"
   ]
  },
  {
   "cell_type": "code",
   "execution_count": 31,
   "id": "5e323c3c",
   "metadata": {
    "ExecuteTime": {
     "end_time": "2021-05-03T01:04:38.197139Z",
     "start_time": "2021-05-03T01:04:38.184343Z"
    },
    "scrolled": true
   },
   "outputs": [
    {
     "data": {
      "text/plain": [
       "id                 0\n",
       "country            0\n",
       "country_code       0\n",
       "slug               0\n",
       "new_confirmed      0\n",
       "total_confirmed    0\n",
       "new_deaths         0\n",
       "total_deaths       0\n",
       "new_recovered      0\n",
       "total_recovered    0\n",
       "date               0\n",
       "premium            0\n",
       "dtype: int64"
      ]
     },
     "execution_count": 31,
     "metadata": {},
     "output_type": "execute_result"
    }
   ],
   "source": [
    "df1.isnull().sum()"
   ]
  },
  {
   "cell_type": "markdown",
   "id": "998fbe6c",
   "metadata": {},
   "source": [
    "## Data Types"
   ]
  },
  {
   "cell_type": "code",
   "execution_count": 20,
   "id": "4bf72208",
   "metadata": {
    "ExecuteTime": {
     "end_time": "2021-05-03T00:58:56.230354Z",
     "start_time": "2021-05-03T00:58:56.199266Z"
    },
    "scrolled": true
   },
   "outputs": [
    {
     "name": "stdout",
     "output_type": "stream",
     "text": [
      "<class 'pandas.core.frame.DataFrame'>\n",
      "RangeIndex: 190 entries, 0 to 189\n",
      "Data columns (total 12 columns):\n",
      " #   Column          Non-Null Count  Dtype \n",
      "---  ------          --------------  ----- \n",
      " 0   ID              190 non-null    object\n",
      " 1   Country         190 non-null    object\n",
      " 2   CountryCode     190 non-null    object\n",
      " 3   Slug            190 non-null    object\n",
      " 4   NewConfirmed    190 non-null    int64 \n",
      " 5   TotalConfirmed  190 non-null    int64 \n",
      " 6   NewDeaths       190 non-null    int64 \n",
      " 7   TotalDeaths     190 non-null    int64 \n",
      " 8   NewRecovered    190 non-null    int64 \n",
      " 9   TotalRecovered  190 non-null    int64 \n",
      " 10  Date            190 non-null    object\n",
      " 11  Premium         190 non-null    object\n",
      "dtypes: int64(6), object(6)\n",
      "memory usage: 17.9+ KB\n"
     ]
    }
   ],
   "source": [
    "df.info()"
   ]
  },
  {
   "cell_type": "markdown",
   "id": "d6111399",
   "metadata": {},
   "source": [
    "## Change Dtypes"
   ]
  },
  {
   "cell_type": "code",
   "execution_count": 34,
   "id": "25c8b304",
   "metadata": {
    "ExecuteTime": {
     "end_time": "2021-05-03T01:07:22.825882Z",
     "start_time": "2021-05-03T01:07:22.819692Z"
    }
   },
   "outputs": [],
   "source": [
    "# chage date dtype to datetime\n",
    "df1['date'] = pd.to_datetime(df1['date'])"
   ]
  },
  {
   "cell_type": "code",
   "execution_count": 35,
   "id": "08a351fe",
   "metadata": {
    "ExecuteTime": {
     "end_time": "2021-05-03T01:07:28.770712Z",
     "start_time": "2021-05-03T01:07:28.755034Z"
    }
   },
   "outputs": [
    {
     "data": {
      "text/plain": [
       "id                              object\n",
       "country                         object\n",
       "country_code                    object\n",
       "slug                            object\n",
       "new_confirmed                    int64\n",
       "total_confirmed                  int64\n",
       "new_deaths                       int64\n",
       "total_deaths                     int64\n",
       "new_recovered                    int64\n",
       "total_recovered                  int64\n",
       "date               datetime64[ns, UTC]\n",
       "premium                         object\n",
       "dtype: object"
      ]
     },
     "execution_count": 35,
     "metadata": {},
     "output_type": "execute_result"
    }
   ],
   "source": [
    "df1.dtypes"
   ]
  },
  {
   "cell_type": "markdown",
   "id": "e68fde18",
   "metadata": {},
   "source": [
    "# Feature Engineering"
   ]
  },
  {
   "cell_type": "code",
   "execution_count": 36,
   "id": "46d103aa",
   "metadata": {
    "ExecuteTime": {
     "end_time": "2021-05-03T01:08:21.026599Z",
     "start_time": "2021-05-03T01:08:21.024206Z"
    }
   },
   "outputs": [],
   "source": [
    "df2 = df1.copy()"
   ]
  },
  {
   "cell_type": "code",
   "execution_count": 53,
   "id": "9d7decc3",
   "metadata": {
    "ExecuteTime": {
     "end_time": "2021-05-03T01:14:51.008628Z",
     "start_time": "2021-05-03T01:14:50.990303Z"
    }
   },
   "outputs": [],
   "source": [
    "# create features from date - day, week, month, year \n",
    "#day\n",
    "df2['day'] = df2['date'].dt.day\n",
    "\n",
    "#week\n",
    "df2['week_of_year'] = df2['date'].dt.isocalendar().week.astype('int64')\n",
    "\n",
    "#month\n",
    "df2['month'] = df2['date'].dt.month\n",
    "\n",
    "#year\n",
    "df2['year'] = df2['date'].dt.year"
   ]
  },
  {
   "cell_type": "code",
   "execution_count": 52,
   "id": "5ecb6fe7",
   "metadata": {
    "ExecuteTime": {
     "end_time": "2021-05-03T01:14:12.520005Z",
     "start_time": "2021-05-03T01:14:12.508543Z"
    },
    "scrolled": true
   },
   "outputs": [
    {
     "data": {
      "text/plain": [
       "id                              object\n",
       "country                         object\n",
       "country_code                    object\n",
       "slug                            object\n",
       "new_confirmed                    int64\n",
       "total_confirmed                  int64\n",
       "new_deaths                       int64\n",
       "total_deaths                     int64\n",
       "new_recovered                    int64\n",
       "total_recovered                  int64\n",
       "date               datetime64[ns, UTC]\n",
       "premium                         object\n",
       "day                              int64\n",
       "week                             int64\n",
       "month                            int64\n",
       "year                             int64\n",
       "dtype: object"
      ]
     },
     "execution_count": 52,
     "metadata": {},
     "output_type": "execute_result"
    }
   ],
   "source": [
    "df2.dtypes"
   ]
  },
  {
   "cell_type": "markdown",
   "id": "e4dfa666",
   "metadata": {},
   "source": [
    "# Data Cleaning"
   ]
  },
  {
   "cell_type": "code",
   "execution_count": 61,
   "id": "2ec0475c",
   "metadata": {
    "ExecuteTime": {
     "end_time": "2021-05-03T01:22:47.132618Z",
     "start_time": "2021-05-03T01:22:47.126553Z"
    }
   },
   "outputs": [],
   "source": [
    "df3 = df2.copy()"
   ]
  },
  {
   "cell_type": "code",
   "execution_count": 62,
   "id": "34abdda2",
   "metadata": {
    "ExecuteTime": {
     "end_time": "2021-05-03T01:22:49.058151Z",
     "start_time": "2021-05-03T01:22:49.038902Z"
    }
   },
   "outputs": [
    {
     "data": {
      "text/html": [
       "<div>\n",
       "<style scoped>\n",
       "    .dataframe tbody tr th:only-of-type {\n",
       "        vertical-align: middle;\n",
       "    }\n",
       "\n",
       "    .dataframe tbody tr th {\n",
       "        vertical-align: top;\n",
       "    }\n",
       "\n",
       "    .dataframe thead th {\n",
       "        text-align: right;\n",
       "    }\n",
       "</style>\n",
       "<table border=\"1\" class=\"dataframe\">\n",
       "  <thead>\n",
       "    <tr style=\"text-align: right;\">\n",
       "      <th></th>\n",
       "      <th>id</th>\n",
       "      <th>country</th>\n",
       "      <th>country_code</th>\n",
       "      <th>slug</th>\n",
       "      <th>new_confirmed</th>\n",
       "      <th>total_confirmed</th>\n",
       "      <th>new_deaths</th>\n",
       "      <th>total_deaths</th>\n",
       "      <th>new_recovered</th>\n",
       "      <th>total_recovered</th>\n",
       "      <th>date</th>\n",
       "      <th>premium</th>\n",
       "      <th>day</th>\n",
       "      <th>week</th>\n",
       "      <th>month</th>\n",
       "      <th>year</th>\n",
       "      <th>week_of_year</th>\n",
       "    </tr>\n",
       "  </thead>\n",
       "  <tbody>\n",
       "    <tr>\n",
       "      <th>0</th>\n",
       "      <td>8cc444b3-c02c-470d-a6fe-e31826ded357</td>\n",
       "      <td>Afghanistan</td>\n",
       "      <td>AF</td>\n",
       "      <td>afghanistan</td>\n",
       "      <td>194</td>\n",
       "      <td>59939</td>\n",
       "      <td>6</td>\n",
       "      <td>2631</td>\n",
       "      <td>66</td>\n",
       "      <td>53272</td>\n",
       "      <td>2021-05-03 00:37:38.096000+00:00</td>\n",
       "      <td>{}</td>\n",
       "      <td>3</td>\n",
       "      <td>18</td>\n",
       "      <td>5</td>\n",
       "      <td>2021</td>\n",
       "      <td>18</td>\n",
       "    </tr>\n",
       "    <tr>\n",
       "      <th>1</th>\n",
       "      <td>97bd00f4-9932-4858-bf8a-5788f4211cf1</td>\n",
       "      <td>Albania</td>\n",
       "      <td>AL</td>\n",
       "      <td>albania</td>\n",
       "      <td>100</td>\n",
       "      <td>131185</td>\n",
       "      <td>2</td>\n",
       "      <td>2396</td>\n",
       "      <td>834</td>\n",
       "      <td>110172</td>\n",
       "      <td>2021-05-03 00:37:38.096000+00:00</td>\n",
       "      <td>{}</td>\n",
       "      <td>3</td>\n",
       "      <td>18</td>\n",
       "      <td>5</td>\n",
       "      <td>2021</td>\n",
       "      <td>18</td>\n",
       "    </tr>\n",
       "    <tr>\n",
       "      <th>2</th>\n",
       "      <td>93605ff5-91ba-4c94-8e90-51e5411467c5</td>\n",
       "      <td>Algeria</td>\n",
       "      <td>DZ</td>\n",
       "      <td>algeria</td>\n",
       "      <td>203</td>\n",
       "      <td>122311</td>\n",
       "      <td>8</td>\n",
       "      <td>3261</td>\n",
       "      <td>141</td>\n",
       "      <td>85249</td>\n",
       "      <td>2021-05-03 00:37:38.096000+00:00</td>\n",
       "      <td>{}</td>\n",
       "      <td>3</td>\n",
       "      <td>18</td>\n",
       "      <td>5</td>\n",
       "      <td>2021</td>\n",
       "      <td>18</td>\n",
       "    </tr>\n",
       "    <tr>\n",
       "      <th>3</th>\n",
       "      <td>20fed65f-3180-4f4b-8f10-414370833ad5</td>\n",
       "      <td>Andorra</td>\n",
       "      <td>AD</td>\n",
       "      <td>andorra</td>\n",
       "      <td>0</td>\n",
       "      <td>13232</td>\n",
       "      <td>0</td>\n",
       "      <td>125</td>\n",
       "      <td>0</td>\n",
       "      <td>12684</td>\n",
       "      <td>2021-05-03 00:37:38.096000+00:00</td>\n",
       "      <td>{}</td>\n",
       "      <td>3</td>\n",
       "      <td>18</td>\n",
       "      <td>5</td>\n",
       "      <td>2021</td>\n",
       "      <td>18</td>\n",
       "    </tr>\n",
       "    <tr>\n",
       "      <th>4</th>\n",
       "      <td>a6eb4ea0-2680-4ede-9cb2-caa9fcf44fbf</td>\n",
       "      <td>Angola</td>\n",
       "      <td>AO</td>\n",
       "      <td>angola</td>\n",
       "      <td>163</td>\n",
       "      <td>26815</td>\n",
       "      <td>4</td>\n",
       "      <td>600</td>\n",
       "      <td>37</td>\n",
       "      <td>23913</td>\n",
       "      <td>2021-05-03 00:37:38.096000+00:00</td>\n",
       "      <td>{}</td>\n",
       "      <td>3</td>\n",
       "      <td>18</td>\n",
       "      <td>5</td>\n",
       "      <td>2021</td>\n",
       "      <td>18</td>\n",
       "    </tr>\n",
       "  </tbody>\n",
       "</table>\n",
       "</div>"
      ],
      "text/plain": [
       "                                     id      country country_code         slug  new_confirmed  total_confirmed  new_deaths  total_deaths  new_recovered  total_recovered                             date premium  day  week  month  year  week_of_year\n",
       "0  8cc444b3-c02c-470d-a6fe-e31826ded357  Afghanistan           AF  afghanistan            194            59939           6          2631             66            53272 2021-05-03 00:37:38.096000+00:00      {}    3    18      5  2021            18\n",
       "1  97bd00f4-9932-4858-bf8a-5788f4211cf1      Albania           AL      albania            100           131185           2          2396            834           110172 2021-05-03 00:37:38.096000+00:00      {}    3    18      5  2021            18\n",
       "2  93605ff5-91ba-4c94-8e90-51e5411467c5      Algeria           DZ      algeria            203           122311           8          3261            141            85249 2021-05-03 00:37:38.096000+00:00      {}    3    18      5  2021            18\n",
       "3  20fed65f-3180-4f4b-8f10-414370833ad5      Andorra           AD      andorra              0            13232           0           125              0            12684 2021-05-03 00:37:38.096000+00:00      {}    3    18      5  2021            18\n",
       "4  a6eb4ea0-2680-4ede-9cb2-caa9fcf44fbf       Angola           AO       angola            163            26815           4           600             37            23913 2021-05-03 00:37:38.096000+00:00      {}    3    18      5  2021            18"
      ]
     },
     "execution_count": 62,
     "metadata": {},
     "output_type": "execute_result"
    }
   ],
   "source": [
    "df3.head()"
   ]
  },
  {
   "cell_type": "code",
   "execution_count": 63,
   "id": "637bdd55",
   "metadata": {
    "ExecuteTime": {
     "end_time": "2021-05-03T01:22:51.185555Z",
     "start_time": "2021-05-03T01:22:51.176072Z"
    }
   },
   "outputs": [],
   "source": [
    "# drop unnecessary features\n",
    "df3 = df3.drop(['id', 'country_code', 'slug', 'premium'], axis = 1)"
   ]
  },
  {
   "cell_type": "code",
   "execution_count": 64,
   "id": "bb775e77",
   "metadata": {
    "ExecuteTime": {
     "end_time": "2021-05-03T01:22:53.171560Z",
     "start_time": "2021-05-03T01:22:53.146562Z"
    }
   },
   "outputs": [
    {
     "data": {
      "text/html": [
       "<div>\n",
       "<style scoped>\n",
       "    .dataframe tbody tr th:only-of-type {\n",
       "        vertical-align: middle;\n",
       "    }\n",
       "\n",
       "    .dataframe tbody tr th {\n",
       "        vertical-align: top;\n",
       "    }\n",
       "\n",
       "    .dataframe thead th {\n",
       "        text-align: right;\n",
       "    }\n",
       "</style>\n",
       "<table border=\"1\" class=\"dataframe\">\n",
       "  <thead>\n",
       "    <tr style=\"text-align: right;\">\n",
       "      <th></th>\n",
       "      <th>country</th>\n",
       "      <th>new_confirmed</th>\n",
       "      <th>total_confirmed</th>\n",
       "      <th>new_deaths</th>\n",
       "      <th>total_deaths</th>\n",
       "      <th>new_recovered</th>\n",
       "      <th>total_recovered</th>\n",
       "      <th>date</th>\n",
       "      <th>day</th>\n",
       "      <th>week</th>\n",
       "      <th>month</th>\n",
       "      <th>year</th>\n",
       "      <th>week_of_year</th>\n",
       "    </tr>\n",
       "  </thead>\n",
       "  <tbody>\n",
       "    <tr>\n",
       "      <th>0</th>\n",
       "      <td>Afghanistan</td>\n",
       "      <td>194</td>\n",
       "      <td>59939</td>\n",
       "      <td>6</td>\n",
       "      <td>2631</td>\n",
       "      <td>66</td>\n",
       "      <td>53272</td>\n",
       "      <td>2021-05-03 00:37:38.096000+00:00</td>\n",
       "      <td>3</td>\n",
       "      <td>18</td>\n",
       "      <td>5</td>\n",
       "      <td>2021</td>\n",
       "      <td>18</td>\n",
       "    </tr>\n",
       "    <tr>\n",
       "      <th>1</th>\n",
       "      <td>Albania</td>\n",
       "      <td>100</td>\n",
       "      <td>131185</td>\n",
       "      <td>2</td>\n",
       "      <td>2396</td>\n",
       "      <td>834</td>\n",
       "      <td>110172</td>\n",
       "      <td>2021-05-03 00:37:38.096000+00:00</td>\n",
       "      <td>3</td>\n",
       "      <td>18</td>\n",
       "      <td>5</td>\n",
       "      <td>2021</td>\n",
       "      <td>18</td>\n",
       "    </tr>\n",
       "    <tr>\n",
       "      <th>2</th>\n",
       "      <td>Algeria</td>\n",
       "      <td>203</td>\n",
       "      <td>122311</td>\n",
       "      <td>8</td>\n",
       "      <td>3261</td>\n",
       "      <td>141</td>\n",
       "      <td>85249</td>\n",
       "      <td>2021-05-03 00:37:38.096000+00:00</td>\n",
       "      <td>3</td>\n",
       "      <td>18</td>\n",
       "      <td>5</td>\n",
       "      <td>2021</td>\n",
       "      <td>18</td>\n",
       "    </tr>\n",
       "    <tr>\n",
       "      <th>3</th>\n",
       "      <td>Andorra</td>\n",
       "      <td>0</td>\n",
       "      <td>13232</td>\n",
       "      <td>0</td>\n",
       "      <td>125</td>\n",
       "      <td>0</td>\n",
       "      <td>12684</td>\n",
       "      <td>2021-05-03 00:37:38.096000+00:00</td>\n",
       "      <td>3</td>\n",
       "      <td>18</td>\n",
       "      <td>5</td>\n",
       "      <td>2021</td>\n",
       "      <td>18</td>\n",
       "    </tr>\n",
       "    <tr>\n",
       "      <th>4</th>\n",
       "      <td>Angola</td>\n",
       "      <td>163</td>\n",
       "      <td>26815</td>\n",
       "      <td>4</td>\n",
       "      <td>600</td>\n",
       "      <td>37</td>\n",
       "      <td>23913</td>\n",
       "      <td>2021-05-03 00:37:38.096000+00:00</td>\n",
       "      <td>3</td>\n",
       "      <td>18</td>\n",
       "      <td>5</td>\n",
       "      <td>2021</td>\n",
       "      <td>18</td>\n",
       "    </tr>\n",
       "  </tbody>\n",
       "</table>\n",
       "</div>"
      ],
      "text/plain": [
       "       country  new_confirmed  total_confirmed  new_deaths  total_deaths  new_recovered  total_recovered                             date  day  week  month  year  week_of_year\n",
       "0  Afghanistan            194            59939           6          2631             66            53272 2021-05-03 00:37:38.096000+00:00    3    18      5  2021            18\n",
       "1      Albania            100           131185           2          2396            834           110172 2021-05-03 00:37:38.096000+00:00    3    18      5  2021            18\n",
       "2      Algeria            203           122311           8          3261            141            85249 2021-05-03 00:37:38.096000+00:00    3    18      5  2021            18\n",
       "3      Andorra              0            13232           0           125              0            12684 2021-05-03 00:37:38.096000+00:00    3    18      5  2021            18\n",
       "4       Angola            163            26815           4           600             37            23913 2021-05-03 00:37:38.096000+00:00    3    18      5  2021            18"
      ]
     },
     "execution_count": 64,
     "metadata": {},
     "output_type": "execute_result"
    }
   ],
   "source": [
    "df3.head()"
   ]
  },
  {
   "cell_type": "markdown",
   "id": "49ff054a",
   "metadata": {},
   "source": [
    "# Data Visualization"
   ]
  },
  {
   "cell_type": "code",
   "execution_count": 65,
   "id": "0d933c20",
   "metadata": {
    "ExecuteTime": {
     "end_time": "2021-05-03T01:31:29.615549Z",
     "start_time": "2021-05-03T01:31:29.598454Z"
    },
    "scrolled": true
   },
   "outputs": [
    {
     "data": {
      "text/html": [
       "<div>\n",
       "<style scoped>\n",
       "    .dataframe tbody tr th:only-of-type {\n",
       "        vertical-align: middle;\n",
       "    }\n",
       "\n",
       "    .dataframe tbody tr th {\n",
       "        vertical-align: top;\n",
       "    }\n",
       "\n",
       "    .dataframe thead th {\n",
       "        text-align: right;\n",
       "    }\n",
       "</style>\n",
       "<table border=\"1\" class=\"dataframe\">\n",
       "  <thead>\n",
       "    <tr style=\"text-align: right;\">\n",
       "      <th></th>\n",
       "      <th>total_confirmed</th>\n",
       "    </tr>\n",
       "    <tr>\n",
       "      <th>day</th>\n",
       "      <th></th>\n",
       "    </tr>\n",
       "  </thead>\n",
       "  <tbody>\n",
       "    <tr>\n",
       "      <th>3</th>\n",
       "      <td>151975599</td>\n",
       "    </tr>\n",
       "  </tbody>\n",
       "</table>\n",
       "</div>"
      ],
      "text/plain": [
       "     total_confirmed\n",
       "day                 \n",
       "3          151975599"
      ]
     },
     "execution_count": 65,
     "metadata": {},
     "output_type": "execute_result"
    }
   ],
   "source": [
    "# daily cases, daily deaths, daily recovery\n",
    "\n",
    "#daily\n",
    "daily_cases = df2[['total_confirmed', 'day']].groupby('day').sum()\n",
    "daily_cases"
   ]
  },
  {
   "cell_type": "code",
   "execution_count": null,
   "id": "7878ce11",
   "metadata": {},
   "outputs": [],
   "source": []
  },
  {
   "cell_type": "code",
   "execution_count": null,
   "id": "c8f09e85",
   "metadata": {},
   "outputs": [],
   "source": []
  },
  {
   "cell_type": "code",
   "execution_count": null,
   "id": "e377d926",
   "metadata": {},
   "outputs": [],
   "source": []
  },
  {
   "cell_type": "markdown",
   "id": "19495772",
   "metadata": {},
   "source": [
    "teste"
   ]
  },
  {
   "cell_type": "code",
   "execution_count": 66,
   "id": "1969f4fa",
   "metadata": {
    "ExecuteTime": {
     "end_time": "2021-05-03T01:48:29.963009Z",
     "start_time": "2021-05-03T01:48:28.353824Z"
    }
   },
   "outputs": [],
   "source": [
    "conn = http.client.HTTPSConnection(\"api.covid19api.com\")\n",
    "payload = ''\n",
    "headers = {}\n",
    "conn.request(\"GET\",\"/summary\",payload,headers)\n",
    "res = conn.getresponse()\n",
    "data  = res.read().decode('UTF-8')\n",
    "covid = json.loads(data)\n",
    "# Gera o dataframe\n",
    "df = pd.DataFrame(covid['Countries'])"
   ]
  },
  {
   "cell_type": "code",
   "execution_count": 67,
   "id": "c0de9af6",
   "metadata": {
    "ExecuteTime": {
     "end_time": "2021-05-03T01:48:46.036773Z",
     "start_time": "2021-05-03T01:48:45.985057Z"
    }
   },
   "outputs": [
    {
     "name": "stderr",
     "output_type": "stream",
     "text": [
      "<ipython-input-67-7498227f5299>:10: FutureWarning: Indexing with multiple keys (implicitly converted to a tuple of keys) will be deprecated, use a list instead.\n",
      "  dfn = dfn.groupby('Country')['TotalConfirmed','TotalDeaths','TotalRecovered','ActiveCases'].sum().sort_values(by = 'TotalConfirmed', ascending = False)\n",
      "<ipython-input-67-7498227f5299>:12: FutureWarning: Indexing with multiple keys (implicitly converted to a tuple of keys) will be deprecated, use a list instead.\n",
      "  dfc = covid1.groupby('Country')['TotalConfirmed', 'TotalDeaths', 'TotalRecovered', 'ActiveCases'].max().sort_values(by = 'TotalConfirmed', ascending = False).reset_index()\n"
     ]
    }
   ],
   "source": [
    "# Data Cleaning\n",
    "# Drop unnecessary features\n",
    "covid1 = df.drop(columns = ['CountryCode', 'Slug', 'Premium'], axis = 1)\n",
    "\n",
    "# Feature Engineering\n",
    "covid1['ActiveCases'] = covid1['TotalConfirmed'] - covid1['TotalRecovered']\n",
    "covid1['ActiveCases'] = covid1['ActiveCases'] - covid1['TotalDeaths']\n",
    "# New Dataframes\n",
    "dfn = covid1.drop(['NewConfirmed', 'NewDeaths', 'NewRecovered'], axis = 1)\n",
    "dfn = dfn.groupby('Country')['TotalConfirmed','TotalDeaths','TotalRecovered','ActiveCases'].sum().sort_values(by = 'TotalConfirmed', ascending = False)\n",
    "dfn.style.background_gradient(cmap = 'Oranges')\n",
    "dfc = covid1.groupby('Country')['TotalConfirmed', 'TotalDeaths', 'TotalRecovered', 'ActiveCases'].max().sort_values(by = 'TotalConfirmed', ascending = False).reset_index()\n"
   ]
  },
  {
   "cell_type": "code",
   "execution_count": null,
   "id": "828dfc99",
   "metadata": {},
   "outputs": [],
   "source": []
  },
  {
   "cell_type": "code",
   "execution_count": null,
   "id": "55da718d",
   "metadata": {},
   "outputs": [],
   "source": []
  },
  {
   "cell_type": "code",
   "execution_count": 76,
   "id": "b45c549f",
   "metadata": {
    "ExecuteTime": {
     "end_time": "2021-05-03T01:51:01.237183Z",
     "start_time": "2021-05-03T01:51:01.226619Z"
    }
   },
   "outputs": [],
   "source": [
    "# Obtém os totais consolidados\n",
    "confirmed_tot = int(dfc['TotalConfirmed'].sum())\n",
    "deaths_tot = int(dfc['TotalDeaths'].sum())\n",
    "recovered_tot = int(dfc['TotalRecovered'].sum())\n",
    "active_tot = int(dfc['ActiveCases'].sum())\n",
    "d = {'total confirmed cases': confirmed_tot, 'total deaths': deaths_tot, 'total recovered': recovered_tot, 'total active cases': active_tot}\n",
    "world_df = pd.DataFrame(d,  index=['world'])"
   ]
  },
  {
   "cell_type": "code",
   "execution_count": 70,
   "id": "5cec2aea",
   "metadata": {
    "ExecuteTime": {
     "end_time": "2021-05-03T01:49:12.792408Z",
     "start_time": "2021-05-03T01:49:12.784819Z"
    }
   },
   "outputs": [
    {
     "data": {
      "text/plain": [
       "{'total confirmed cases': 151975599,\n",
       " 'total deaths': 3190232,\n",
       " 'total recovered': 88892904,\n",
       " 'total active cases': 59892463}"
      ]
     },
     "execution_count": 70,
     "metadata": {},
     "output_type": "execute_result"
    }
   ],
   "source": [
    "d"
   ]
  },
  {
   "cell_type": "code",
   "execution_count": 77,
   "id": "aa8f920c",
   "metadata": {
    "ExecuteTime": {
     "end_time": "2021-05-03T01:51:03.890953Z",
     "start_time": "2021-05-03T01:51:03.876091Z"
    }
   },
   "outputs": [
    {
     "data": {
      "text/html": [
       "<div>\n",
       "<style scoped>\n",
       "    .dataframe tbody tr th:only-of-type {\n",
       "        vertical-align: middle;\n",
       "    }\n",
       "\n",
       "    .dataframe tbody tr th {\n",
       "        vertical-align: top;\n",
       "    }\n",
       "\n",
       "    .dataframe thead th {\n",
       "        text-align: right;\n",
       "    }\n",
       "</style>\n",
       "<table border=\"1\" class=\"dataframe\">\n",
       "  <thead>\n",
       "    <tr style=\"text-align: right;\">\n",
       "      <th></th>\n",
       "      <th>total confirmed cases</th>\n",
       "      <th>total deaths</th>\n",
       "      <th>total recovered</th>\n",
       "      <th>total active cases</th>\n",
       "    </tr>\n",
       "  </thead>\n",
       "  <tbody>\n",
       "    <tr>\n",
       "      <th>world</th>\n",
       "      <td>151975599</td>\n",
       "      <td>3190232</td>\n",
       "      <td>88892904</td>\n",
       "      <td>59892463</td>\n",
       "    </tr>\n",
       "  </tbody>\n",
       "</table>\n",
       "</div>"
      ],
      "text/plain": [
       "       total confirmed cases  total deaths  total recovered  total active cases\n",
       "world              151975599       3190232         88892904            59892463"
      ]
     },
     "execution_count": 77,
     "metadata": {},
     "output_type": "execute_result"
    }
   ],
   "source": [
    "world_df"
   ]
  }
 ],
 "metadata": {
  "kernelspec": {
   "display_name": "Python 3",
   "language": "python",
   "name": "python3"
  },
  "language_info": {
   "codemirror_mode": {
    "name": "ipython",
    "version": 3
   },
   "file_extension": ".py",
   "mimetype": "text/x-python",
   "name": "python",
   "nbconvert_exporter": "python",
   "pygments_lexer": "ipython3",
   "version": "3.9.1"
  },
  "toc": {
   "base_numbering": 1,
   "nav_menu": {},
   "number_sections": true,
   "sideBar": true,
   "skip_h1_title": false,
   "title_cell": "Table of Contents",
   "title_sidebar": "Contents",
   "toc_cell": false,
   "toc_position": {},
   "toc_section_display": true,
   "toc_window_display": false
  }
 },
 "nbformat": 4,
 "nbformat_minor": 5
}
